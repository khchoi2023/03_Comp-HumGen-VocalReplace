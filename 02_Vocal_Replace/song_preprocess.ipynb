{
 "cells": [
  {
   "cell_type": "code",
   "execution_count": 1,
   "metadata": {},
   "outputs": [],
   "source": [
    "import os\n",
    "import glob\n",
    "import wave\n",
    "from pydub import AudioSegment\n",
    "import librosa.display\n",
    "from tqdm import tqdm\n",
    "import soundfile as sf\n",
    "import shutil\n",
    "import subprocess\n",
    "from pydub.silence import split_on_silence"
   ]
  },
  {
   "cell_type": "markdown",
   "metadata": {},
   "source": [
    "input_file에 학습할 목소리 파일 위치 설정, output_folder에 전처리한 파일 저장 폴더 위치 설정 후 코드 실행\n",
    "\n",
    "폴더에 chunk_{학습파일번호}_{분리번호}.wav로 저장됨"
   ]
  },
  {
   "cell_type": "code",
   "execution_count": 2,
   "metadata": {},
   "outputs": [],
   "source": [
    "# 음성파일 경로 설정\n",
    "for num in range(1,8):\n",
    "    input_file = f\"C:/study_data/project/0/벤/벤{num}.mp3\"\n",
    "    output_folder = \"C:/study_data/project/0/벤/temp1\"\n",
    "\n",
    "    # 오디오 파일 로드 및 변환\n",
    "    sound = AudioSegment.from_file(input_file)\n",
    "    sound = sound.set_frame_rate(44100).set_channels(1).set_sample_width(2)\n",
    "\n",
    "    # 무음 구간을 기준으로 오디오 파일 분리\n",
    "    audio_chunks = split_on_silence(sound, \n",
    "        min_silence_len=1000, # 최소 무음 길이 (밀리초 단위)\n",
    "        silence_thresh=-35, # 무음으로 간주되는 dBFS 값\n",
    "        keep_silence=500 # 분리된 오디오 조각들 간의 추가적인 무음 길이 (밀리초 단위)\n",
    "    )\n",
    "\n",
    "    # 출력 파일명 설정 및 출력 폴더 생성\n",
    "    if not os.path.exists(output_folder):\n",
    "        os.makedirs(output_folder)\n",
    "\n",
    "    # 분리된 오디오 조각들 중 최대 15초까지만 선택하여 wav 파일로 저장\n",
    "    for i, chunk in enumerate(audio_chunks):\n",
    "        if len(chunk) > 15000:\n",
    "            chunk = chunk[:15000]\n",
    "        output_file = os.path.join(output_folder, f'chunk_{num}_{i}.wav')\n",
    "        chunk.export(output_file, format='wav')"
   ]
  }
 ],
 "metadata": {
  "kernelspec": {
   "display_name": "base",
   "language": "python",
   "name": "python3"
  },
  "language_info": {
   "codemirror_mode": {
    "name": "ipython",
    "version": 3
   },
   "file_extension": ".py",
   "mimetype": "text/x-python",
   "name": "python",
   "nbconvert_exporter": "python",
   "pygments_lexer": "ipython3",
   "version": "3.10.9"
  },
  "orig_nbformat": 4
 },
 "nbformat": 4,
 "nbformat_minor": 2
}
